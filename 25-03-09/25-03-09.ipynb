{
 "cells": [
  {
   "cell_type": "markdown",
   "metadata": {},
   "source": [
    "# [Can you survive The Great Bar Crawl?](https://xpuzzlecorner.substack.com/p/can-you-survive-the-great-bar-crawl)\n",
    "## March 9, 2025"
   ]
  },
  {
   "cell_type": "markdown",
   "metadata": {},
   "source": [
    "## Problem\n",
    "\n",
    "_It’s Tuesday evening, and you and your friends decide to celebrate Mardi Gras the fun way—with a legendary bar crawl. Your neighborhood has N bars, all within stumbling distance of each other. But rather than meticulously planning a route, you embrace the chaos:_\n",
    "\n",
    "_Every hour, you pick a bar at random. No strategy, no preferences. And let’s be honest, you’re not going to remember which bars you’ve already been to._\n",
    "\n",
    "- _It’s going to be a late night. You and your friends will keep hopping between bars for a while._\n",
    "\n",
    "- _But since the bar crawl hasn’t started yet and you’re still lucid, you realize it might be awkward if you all return to the same bar too soon. So you decide to figure out how how long it would typically take for this to happen._\n",
    "\n",
    "_So, our question is: Assuming it’s your first time returning to a bar you’ve already been to (i.e., it’s your first “repeat” bar), on average, how many hours will have passed between your first arrival and your second?_"
   ]
  },
  {
   "cell_type": "markdown",
   "metadata": {},
   "source": [
    "## Solution\n",
    "\n",
    "To amount of time it takes to return to a bar you've already been to can "
   ]
  },
  {
   "cell_type": "code",
   "execution_count": 3,
   "metadata": {},
   "outputs": [
    {
     "name": "stdout",
     "output_type": "stream",
     "text": [
      "2.3301078399999997\n",
      "3.229157872442828\n"
     ]
    }
   ],
   "source": [
    "def falling_factorial(n, k):\n",
    "    \"\"\"\n",
    "    Compute the falling factorial n^k.\n",
    "    \"\"\"\n",
    "    if k < 0:\n",
    "        raise ValueError(\"k must be non-negative\")\n",
    "    if k > n:\n",
    "        return 0\n",
    "    result = 1\n",
    "    for i in range(k):\n",
    "        result *= n - i\n",
    "    return result\n",
    "\n",
    "def analytic_instant_repeat(N):\n",
    "    return sum(l * sum(falling_factorial(N-1,t-1)/N**(t) for t in range(l, N+1)) for l in range(1, N+1))\n",
    "\n",
    "def analytic_noinstant_repeat(N):\n",
    "    return sum(l * sum(falling_factorial(N-2,t-2)/(N-1)**(t-1) for t in range(l, N+1)) for l in range(2, N+1))\n",
    "\n",
    "print(analytic_instant_repeat(10))\n",
    "print(analytic_noinstant_repeat(10))"
   ]
  },
  {
   "cell_type": "code",
   "execution_count": 18,
   "metadata": {},
   "outputs": [
    {
     "name": "stdout",
     "output_type": "stream",
     "text": [
      "Average time between first and second appearance at the repeated bar for 20 bars: 3.15 hours\n"
     ]
    }
   ],
   "source": [
    "import random\n",
    "import numpy as np\n",
    "\n",
    "def simulate_bar_crawl(num_bars, num_simulations=100000):\n",
    "    times_between_repeats = []\n",
    "\n",
    "    for _ in range(num_simulations):\n",
    "        visited = {}  # Dictionary to track first visit times\n",
    "        hours = 0\n",
    "\n",
    "        while True:\n",
    "            bar = random.randint(1, num_bars)\n",
    "            hours += 1\n",
    "\n",
    "            if bar in visited:\n",
    "                # Compute time since the first visit to this bar\n",
    "                times_between_repeats.append(hours - visited[bar])\n",
    "                break\n",
    "\n",
    "            visited[bar] = hours  # Record the first visit time\n",
    "\n",
    "    return np.mean(times_between_repeats)\n",
    "\n",
    "# Example usage with 10 bars\n",
    "num_bars = 20\n",
    "average_time_to_repeat = simulate_bar_crawl(num_bars)\n",
    "print(f\"Average time between first and second appearance at the repeated bar for {num_bars} bars: {average_time_to_repeat:.2f} hours\")\n",
    "\n"
   ]
  },
  {
   "cell_type": "code",
   "execution_count": 2,
   "metadata": {},
   "outputs": [
    {
     "name": "stdout",
     "output_type": "stream",
     "text": [
      "Average time between first and second appearance at the repeated bar for 20 bars (no immediate repeats): 4.08 hours\n"
     ]
    }
   ],
   "source": [
    "# No immeditate repeats\n",
    "import random\n",
    "import numpy as np\n",
    "\n",
    "def simulate_bar_crawl(num_bars, num_simulations=100000):\n",
    "    times_between_repeats = []\n",
    "\n",
    "    for _ in range(num_simulations):\n",
    "        visited = {}  # Dictionary to track first visit times\n",
    "        hours = 0\n",
    "        last_bar = None  # Track the last visited bar\n",
    "\n",
    "        while True:\n",
    "            bar = random.randint(1, num_bars)\n",
    "            if bar == last_bar:\n",
    "                continue  # Skip if it's the same as the previous bar\n",
    "\n",
    "            hours += 1\n",
    "\n",
    "            if bar in visited:\n",
    "                # Compute time since the first visit to this bar\n",
    "                times_between_repeats.append(hours - visited[bar])\n",
    "                break\n",
    "\n",
    "            visited[bar] = hours  # Record the first visit time\n",
    "            last_bar = bar  # Update the last visited bar\n",
    "\n",
    "    return np.mean(times_between_repeats)\n",
    "\n",
    "# Example usage with 10 bars\n",
    "num_bars = 20\n",
    "average_time_to_repeat = simulate_bar_crawl(num_bars)\n",
    "print(f\"Average time between first and second appearance at the repeated bar for {num_bars} bars (no immediate repeats): {average_time_to_repeat:.2f} hours\")\n"
   ]
  }
 ],
 "metadata": {
  "kernelspec": {
   "display_name": "puzzling",
   "language": "python",
   "name": "python3"
  },
  "language_info": {
   "codemirror_mode": {
    "name": "ipython",
    "version": 3
   },
   "file_extension": ".py",
   "mimetype": "text/x-python",
   "name": "python",
   "nbconvert_exporter": "python",
   "pygments_lexer": "ipython3",
   "version": "3.12.5"
  }
 },
 "nbformat": 4,
 "nbformat_minor": 2
}
