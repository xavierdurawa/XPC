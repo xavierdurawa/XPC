{
 "cells": [
  {
   "cell_type": "code",
   "execution_count": 4,
   "id": "411337f7",
   "metadata": {},
   "outputs": [
    {
     "name": "stdout",
     "output_type": "stream",
     "text": [
      "Distribution for Delta_8 (gap : probability):\n",
      "{-2: Fraction(4, 165),\n",
      " 0: Fraction(478, 1155),\n",
      " 2: Fraction(53, 105),\n",
      " 4: Fraction(2, 35)}\n",
      "\n",
      "Probability Player 1 wins: 59/105 ≈ 0.5619047619047619\n"
     ]
    }
   ],
   "source": [
    "from fractions import Fraction\n",
    "from functools import lru_cache\n",
    "from collections import defaultdict\n",
    "import pprint\n",
    "\n",
    "def N(m):\n",
    "    return m * (m - 3) // 2\n",
    "\n",
    "def C_m(m, a):\n",
    "    b = m + 2 - a\n",
    "    return m if a != b else m // 2\n",
    "\n",
    "def S(a, b):\n",
    "    return int(a == 3) + int(b == 3)\n",
    "\n",
    "@lru_cache(None)\n",
    "def dist(polygons, player):\n",
    "    # Total diagonals available across all polygons\n",
    "    N_total = sum(N(m) for m in polygons)\n",
    "    if N_total == 0:\n",
    "        return {0: Fraction(1, 1)}\n",
    "    \n",
    "    result = defaultdict(Fraction)\n",
    "    # Iterate over each polygon\n",
    "    for idx, m in enumerate(polygons):\n",
    "        Nm = N(m)\n",
    "        if Nm == 0:\n",
    "            continue\n",
    "        \n",
    "        # Only consider splits a ≤ b to avoid double-counting\n",
    "        a_max = (m + 2) // 2\n",
    "        for a in range(3, a_max + 1):\n",
    "            b = m + 2 - a\n",
    "            count = C_m(m, a)\n",
    "            instant = S(a, b)\n",
    "            # Probability of choosing one of these diagonals among all\n",
    "            prob_choice = Fraction(count, N_total)\n",
    "            \n",
    "            # Build new multiset of polygons after drawing this diagonal\n",
    "            new_polys = list(polygons)\n",
    "            new_polys.pop(idx)\n",
    "            new_polys.extend([a, b])\n",
    "            new_polys.sort()\n",
    "            \n",
    "            # Recurse for the opponent's turn\n",
    "            sub_dist = dist(tuple(new_polys), 2 if player == 1 else 1)\n",
    "            \n",
    "            # Combine distributions\n",
    "            for delta_sub, p_sub in sub_dist.items():\n",
    "                if player == 1:\n",
    "                    delta = instant + delta_sub\n",
    "                else:\n",
    "                    delta = -instant + delta_sub\n",
    "                result[delta] += prob_choice * p_sub\n",
    "    \n",
    "    return dict(result)\n",
    "\n",
    "distribution_8 = dist((8,), 1)\n",
    "win_probability = sum(p for d, p in distribution_8.items() if d > 0)\n",
    "\n",
    "print(\"Distribution for Delta_8 (gap : probability):\")\n",
    "pprint.pprint(distribution_8)\n",
    "print(\"\\nProbability Player 1 wins:\", win_probability, \"≈\", float(win_probability))\n"
   ]
  }
 ],
 "metadata": {
  "kernelspec": {
   "display_name": "puzzling",
   "language": "python",
   "name": "python3"
  },
  "language_info": {
   "codemirror_mode": {
    "name": "ipython",
    "version": 3
   },
   "file_extension": ".py",
   "mimetype": "text/x-python",
   "name": "python",
   "nbconvert_exporter": "python",
   "pygments_lexer": "ipython3",
   "version": "3.13.2"
  }
 },
 "nbformat": 4,
 "nbformat_minor": 5
}
