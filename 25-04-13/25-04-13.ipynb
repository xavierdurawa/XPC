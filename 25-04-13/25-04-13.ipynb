{
 "cells": [
  {
   "cell_type": "code",
   "execution_count": 6,
   "id": "204e53bb",
   "metadata": {},
   "outputs": [
    {
     "data": {
      "text/html": [
       "<div>\n",
       "<style scoped>\n",
       "    .dataframe tbody tr th:only-of-type {\n",
       "        vertical-align: middle;\n",
       "    }\n",
       "\n",
       "    .dataframe tbody tr th {\n",
       "        vertical-align: top;\n",
       "    }\n",
       "\n",
       "    .dataframe thead th {\n",
       "        text-align: right;\n",
       "    }\n",
       "</style>\n",
       "<table border=\"1\" class=\"dataframe\">\n",
       "  <thead>\n",
       "    <tr style=\"text-align: right;\">\n",
       "      <th></th>\n",
       "      <th>p</th>\n",
       "      <th>Simulation</th>\n",
       "      <th>Analytic</th>\n",
       "    </tr>\n",
       "  </thead>\n",
       "  <tbody>\n",
       "    <tr>\n",
       "      <th>0</th>\n",
       "      <td>0.1</td>\n",
       "      <td>0.540726</td>\n",
       "      <td>0.540315</td>\n",
       "    </tr>\n",
       "  </tbody>\n",
       "</table>\n",
       "</div>"
      ],
      "text/plain": [
       "     p  Simulation  Analytic\n",
       "0  0.1    0.540726  0.540315"
      ]
     },
     "execution_count": 6,
     "metadata": {},
     "output_type": "execute_result"
    }
   ],
   "source": [
    "import numpy as np\n",
    "import math\n",
    "\n",
    "def analytic_probability(n, p):\n",
    "    q = p**2 + (1-p)**2\n",
    "    r = 2 * p * (1-p)\n",
    "    total = 0.0\n",
    "    half = n // 2\n",
    "    for k in range(half + 1):\n",
    "        total += (math.comb(half, k)**2) * (q**(2*k)) * (r**(n - 2*k))\n",
    "    return total\n",
    "\n",
    "def simulate_probability(n, p, trials=10000):\n",
    "    count_zero_dot = 0\n",
    "    for _ in range(trials):\n",
    "        # generate random u\n",
    "        u = np.random.choice([-1, 1], size=n)\n",
    "        # generate v orthogonal to u\n",
    "        # choose half positions where v_i = u_i (+1 product), half where v_i = -u_i (-1 product)\n",
    "        half = n // 2\n",
    "        indices = np.arange(n)\n",
    "        plus_indices = np.random.choice(indices, size=half, replace=False)\n",
    "        mask = np.zeros(n, dtype=bool)\n",
    "        mask[plus_indices] = True\n",
    "        v = np.where(mask, u, -u)\n",
    "        \n",
    "        # apply independent flips\n",
    "        flips_u = np.random.rand(n) < p\n",
    "        flips_v = np.random.rand(n) < p\n",
    "        u_flipped = np.where(flips_u, -u, u)\n",
    "        v_flipped = np.where(flips_v, -v, v)\n",
    "        \n",
    "        if np.dot(u_flipped, v_flipped) == 0:\n",
    "            count_zero_dot += 1\n",
    "            \n",
    "    return count_zero_dot / trials\n",
    "\n",
    "# Parameters\n",
    "n = 4\n",
    "p_values = [0.1]\n",
    "trials = 1000000\n",
    "\n",
    "# Run simulation and analytic calculation\n",
    "results = []\n",
    "for p in p_values:\n",
    "    sim_prob = simulate_probability(n, p, trials)\n",
    "    ana_prob = analytic_probability(n, p)\n",
    "    results.append((p, sim_prob, ana_prob))\n",
    "\n",
    "# Display results\n",
    "import pandas as pd\n",
    "df = pd.DataFrame(results, columns=[\"p\", \"Simulation\", \"Analytic\"])\n",
    "df"
   ]
  }
 ],
 "metadata": {
  "kernelspec": {
   "display_name": "puzzling",
   "language": "python",
   "name": "python3"
  },
  "language_info": {
   "codemirror_mode": {
    "name": "ipython",
    "version": 3
   },
   "file_extension": ".py",
   "mimetype": "text/x-python",
   "name": "python",
   "nbconvert_exporter": "python",
   "pygments_lexer": "ipython3",
   "version": "3.13.2"
  }
 },
 "nbformat": 4,
 "nbformat_minor": 5
}
