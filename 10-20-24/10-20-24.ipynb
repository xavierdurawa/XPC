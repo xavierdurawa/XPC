{
 "cells": [
  {
   "cell_type": "markdown",
   "metadata": {},
   "source": [
    "# [Get Rich or Buy Trying - Part 3](https://xpuzzlecorner.substack.com/p/get-rich-or-buy-trying-part-3)\n",
    "## October 20, 2024"
   ]
  },
  {
   "cell_type": "markdown",
   "metadata": {},
   "source": [
    "## Problem\n",
    "\n",
    "_Consider the following stock behavior:_\n",
    "\n",
    "_The stock’s value will change by a factor of (1+δ) from it’s pervious value each hour where δ is uniformly distributed from [-1/100, 1/100]. For example, after two hours, the value would be p_0 * δ_1 * δ_2. Note: these values are slightly different from Part 2._\n",
    "\n",
    "_The question for this week is, what’s the average difference in performance between an oracle that can predict whether the stock will go up each hour vs the oracle that can predict whether the stock will go up each day? The oracles are to perform over 5 days, 7 hours each day._"
   ]
  },
  {
   "cell_type": "markdown",
   "metadata": {},
   "source": [
    "## Solution\n",
    "\n",
    "The situation is quite similar to [Part 2](https://github.com/xavierdurawa/XPC/blob/master/10-13-24/10-13-24.ipynb) except that the number of compounding periods is itself now a random number binomially distributed with $ p = .5 $ and $ N = 35 $ for the hourly case and $ N = 5 $ for the daily case. Recall from [Part 1](https://github.com/xavierdurawa/XPC/blob/master/10-06-24/10-06-24.ipynb) that we ended up performing a transformations over the binomial distribution. We can use a similar technique here since our number of compoundings are going to be binomially distributed. Let's let $ X $ be a uniformly distributed random variable on $ [0, 1/100] $, $ p_0=1 $, and $ Y_h $ be a binomially distributed random variable with $ p = .5 $ and $ N = 35 $. Then distribution of the stock price after 35 hours is $ (1 + X)^Y_h $. We can find the expected value of this distribution by finding the expected value of $ (1 + X)^{Y_h} $.\n",
    "\n",
    "$$ E[(1 + X)^{Y_h}] = \\displaystyle \\sum_{y_h} \\int (1 + x)^{y_h} f_X(x) f_{Y_h}(y_h) dx = \\displaystyle \\sum_{y_h=0}^{35} \\int_0^{1/100} (1 + x)^{y_h} \\cdot 100 \\cdot \\binom{35}{y_h} \\cdot \\frac{1}{2}^{35} dx = \\displaystyle \\sum_{y_h=0}^{35} \\binom{35}{y_h} \\cdot \\frac{100}{2^{35}} \\int_0^{1/100} (1 + x)^{y_h} dx $$ \n",
    "\n",
    "$$ = \\displaystyle \\sum_{y_h=0}^{35} \\binom{35}{y_h} \\cdot \\frac{100}{2^{35}} \\left[ \\frac{(1 + x)^{y_h+1}}{y_h+1} \\right]_0^{1/100} = \\displaystyle \\sum_{y_h=0}^{35} \\binom{35}{y_h} \\cdot \\frac{100}{2^{35}} \\left[ \\frac{(1 + 1/100)^{y_h+1} - 1}{y_h+1} \\right] = \\boxed{ \\displaystyle \\sum_{y_h=0}^{35} \\binom{35}{y_h} \\cdot \\frac{100}{2^{35}} \\left[ \\frac{(101/100)^{y_h+1} - 1}{y_h+1} \\right] } $$\n",
    "\n",
    "If we're not careful, we might assume we can obtain a very similar value for the daily case except that  $ Y_d $ is a binomially distributed random variable with $ p = .5 $ and $ N = 5 $. But this isn't quite right, since this would assume that the stock price is compounded daily. Instead, the stock price is compounded every hour. So instead we need to find the expected value of $ X^{Y_d} $ where $ Y_d $ is a binomially distributed random variable with $ p = .5 $ and $ N = 5 $ and $ X $ is distributed as $ U \\sim [.99,1.01] $:\n",
    "\n",
    "$$ \\displaystyle f_{X}(x) = \\frac{1}{(t-1)!} \\left( \\frac{1}{b-a} \\right)^{t} \\sum_{k=0}^{t} \\binom{t}{k} (-1)^k c_k^{t-1} \\cdot \\mathbb{1}_{c_k > 0} $$\n",
    "\n",
    "where $ t $ is the number of times the uniform variable is compounded ($ t=7 $ in this case), $ c_k = k \\ln(b) + (t-k) \\ln(a) - \\ln(x) $, $ b=1.01 $ , and $ a=.99 $ (taken from [Part 2](https://github.com/xavierdurawa/XPC/blob/master/10-13-24/10-13-24.ipynb)). But with the way we set up $ Y_d $ we are only concerned with the part of the distribution where $ x > 1 $, so we need to rescale the distribution to account for this:\n",
    "\n",
    "\n",
    "$$ E[(1 + X)^{Y_d}] = \\displaystyle \\sum_{y_d} \\int x^{y_d} f_{X|X>1}(x) f_{Y_d}(y_d) dx = \\displaystyle \\sum_{y_d=0}^{5} \\binom{5}{y_d} \\frac{100}{2^{5}} \\int_a^{b} x^{y_d} \\cdot \\frac{f_{X}(x)}{\\int_1^b f_X(x)} dx $$\n",
    "\n",
    "$ \\int_1^b f_X(x) $ is just a scaling factor so let's come back to that later. Let's pull out all the constants to clean up the expression:\n",
    "\n",
    "$$ \\alpha = \\frac{100^{7}}{2^{5}6! \\int_1^b f_X(x)} $$\n",
    "\n",
    "$$ E[(1 + X)^{Y_d}] = \\alpha \\displaystyle \\sum_{y_d=0}^{5} \\binom{5}{y_d} \\int_1^{b} x^{y_d} \\cdot \\sum_{k=0}^{7} \\binom{7}{k} (-1)^k c_k^{6} \\cdot \\mathbb{1}_{c_k > 0} dx $$\n",
    "\n",
    "$$ E[(1 + X)^{Y_d}] = \\alpha \\displaystyle \\sum_{y_d=0}^{5} \\binom{5}{y_d} \\sum_{k=0}^{7} \\binom{7}{k} (-1)^k \\int_1^{b} x^{y_d} \\cdot c_k^{6} \\cdot \\mathbb{1}_{c_k > 0} dx $$\n",
    "\n",
    "If we let $ \\beta(k,t)= k \\ln(b) + (t-k) \\ln(a) $ We will ultimately have terms that we need to integrate of the form \n",
    "$$ \\int_1^{b} x^{y_d} \\cdot (\\beta(k,t) - \\ln(x))^6 \\cdot \\mathbb{1}_{c_k > 0} dx $$\n",
    "\n",
    "$$ \\int_1^{b} x^{y_d} \\cdot (\\beta(k,t) - \\ln(x))^6 \\cdot \\mathbb{1}_{c_k > 0} dx $$\n",
    "\n",
    "Sparing the details of the integration, which can be performed by iteratively doing integration by parts, we get:\n",
    "\n",
    "$$\n",
    "\\begin{align*} I &= \\sum_{k=0}^{6} \\frac{6!}{(6 - k)! \\, k!} \\frac{1}{(y_d + 1)^{k + 1}} \\left[ \\xi^{y_d + 1} \\left( \\beta - \\ln \\xi \\right)^{6 - k} - \\beta^{6 - k} \\right] \\\\ &\\quad + \\frac{6!}{(y_d + 1)^7} \\left[ \\frac{\\xi^{y_d + 1} - 1}{y_d + 1} \\right] \n",
    "\\end{align*}\n",
    "$$\n",
    "\n",
    "Where $ \\xi = \\min(b,e^{\\beta(k,t)}) $\n",
    "\n",
    "Pulling it all together, we have:\n",
    "\n",
    "$$ E[(1 + X)^{Y_d}] = \\alpha \\displaystyle \\sum_{y_d=0}^{5} \\binom{5}{y_d} \\sum_{k=0}^{7} \\binom{7}{k} (-1)^k I(k, y_d) $$\n",
    "\n",
    "where $ I(k, y_d) $ is the integral above.\n"
   ]
  },
  {
   "cell_type": "code",
   "execution_count": 11,
   "metadata": {},
   "outputs": [
    {
     "name": "stdout",
     "output_type": "stream",
     "text": [
      "The expected value E[(1 + X)^{Y_h}] is: 1.0926695823523307\n"
     ]
    }
   ],
   "source": [
    "import math\n",
    "\n",
    "def compute_sum():\n",
    "    total = 0\n",
    "    for y_h in range(36):  # y_h goes from 0 to 35 inclusive\n",
    "        binomial_coefficient = math.comb(35, y_h)\n",
    "        term = binomial_coefficient * (100 / (2 ** 35)) * ((101 / 100) ** (y_h + 1) - 1) / (y_h + 1)\n",
    "        total += term\n",
    "    return total\n",
    "\n",
    "result = compute_sum()\n",
    "print(\"The expected value E[(1 + X)^{Y_h}] is:\", result)\n"
   ]
  },
  {
   "cell_type": "code",
   "execution_count": 8,
   "metadata": {},
   "outputs": [
    {
     "name": "stdout",
     "output_type": "stream",
     "text": [
      "The simulated expected value E[(1 + X)^{Y_h}] is: 1.0940470458511669\n"
     ]
    }
   ],
   "source": [
    "# Simulate the hourly case\n",
    "\n",
    "import random\n",
    "\n",
    "def simulate_hourly():\n",
    "    start = 1\n",
    "    for _ in range(36):\n",
    "        if random.random() < 0.5:\n",
    "            continue\n",
    "        delta = 1 + random.random() * (1/100)\n",
    "        start *= delta\n",
    "    return start\n",
    "\n",
    "num_simulations = 10**6\n",
    "total = sum(simulate_hourly() for _ in range(num_simulations))\n",
    "print(\"The simulated expected value E[(1 + X)^{Y_h}] is:\", total / num_simulations)"
   ]
  },
  {
   "cell_type": "code",
   "execution_count": 13,
   "metadata": {},
   "outputs": [],
   "source": [
    "import sympy as sp\n",
    "import math\n",
    "from scipy.special import binom\n",
    "\n",
    "def compute_integral_symbolic(b, y_d, beta_k):\n",
    "    # Define symbolic variables\n",
    "    x = sp.symbols('x')\n",
    "    integral_sum = 0\n",
    "    factorial_6 = math.factorial(6)\n",
    "    \n",
    "    # Compute the symbolic integral result using iterated integration by parts\n",
    "    for k in range(7):\n",
    "        binom_coeff = binom(6, k)  # Binomial coefficient\n",
    "        term = (\n",
    "            binom_coeff * (b ** (y_d + 1) * (beta_k - sp.log(b)) ** (6 - k) / (y_d + 1) ** (7 - k))\n",
    "            - binom_coeff * (beta_k ** (6 - k) / (y_d + 1) ** (7 - k))\n",
    "        )\n",
    "        integral_sum += term\n",
    "    \n",
    "    # Add the final constant term\n",
    "    integral_sum += factorial_6 * (b ** (y_d + 1) - 1) / (y_d + 1) ** 7\n",
    "    \n",
    "    # Simplify and return the result\n",
    "    return sp.simplify(integral_sum)\n",
    "\n",
    "def compute_integral_numeric(b, y_d, beta_k):\n",
    "    # Initialize the result\n",
    "    integral_sum = 0\n",
    "    factorial_6 = math.factorial(6)\n",
    "    \n",
    "    # Loop to compute each term numerically\n",
    "    for k in range(7):\n",
    "        binom_coeff = binom(6, k)  # Binomial coefficient\n",
    "        term = (\n",
    "            binom_coeff * (b ** (y_d + 1) * (beta_k - math.log(b)) ** (6 - k) / (y_d + 1) ** (7 - k))\n",
    "            - binom_coeff * (beta_k ** (6 - k) / (y_d + 1) ** (7 - k))\n",
    "        )\n",
    "        integral_sum += term\n",
    "    \n",
    "    # Add the final constant term\n",
    "    integral_sum += factorial_6 * (b ** (y_d + 1) - 1) / (y_d + 1) ** 7\n",
    "    \n",
    "    # Return the numeric result\n",
    "    return integral_sum\n"
   ]
  },
  {
   "cell_type": "code",
   "execution_count": 15,
   "metadata": {},
   "outputs": [
    {
     "name": "stdout",
     "output_type": "stream",
     "text": [
      "Symbolic Evaluation: 11.0163013735153\n",
      "Numeric Evaluation: 11.0163013735153\n",
      "Difference: 1.77635683940025e-15\n"
     ]
    }
   ],
   "source": [
    "# Example parameters\n",
    "b_val = 2\n",
    "y_d_val = 3\n",
    "beta_k_val = 1.5\n",
    "\n",
    "# Compute using symbolic approach\n",
    "result_symbolic = compute_integral_symbolic(b_val, y_d_val, beta_k_val).evalf()\n",
    "print(\"Symbolic Evaluation:\", result_symbolic)\n",
    "\n",
    "# Compute using numeric approach\n",
    "result_numeric = compute_integral_numeric(b_val, y_d_val, beta_k_val)\n",
    "print(\"Numeric Evaluation:\", result_numeric)\n",
    "\n",
    "# Compare results\n",
    "print(\"Difference:\", abs(result_symbolic - result_numeric))\n"
   ]
  },
  {
   "cell_type": "code",
   "execution_count": 20,
   "metadata": {},
   "outputs": [
    {
     "name": "stdout",
     "output_type": "stream",
     "text": [
      "The simulated expected value E[(1 + X)^{Y_d}] is: 1.031070097597957\n"
     ]
    }
   ],
   "source": [
    "def simulate_daily():\n",
    "    start = 1\n",
    "    for _ in range(5):\n",
    "        daily = 1\n",
    "        for _ in range(7):\n",
    "            delta = (random.random() - 0.5) / 50\n",
    "            daily *= 1 + delta\n",
    "        if daily > 1:\n",
    "            start *= daily\n",
    "    return start\n",
    "\n",
    "num_simulations = 10**6\n",
    "total = sum(simulate_daily() for _ in range(num_simulations))\n",
    "print(\"The simulated expected value E[(1 + X)^{Y_d}] is:\", total / num_simulations)"
   ]
  },
  {
   "cell_type": "code",
   "execution_count": null,
   "metadata": {},
   "outputs": [
    {
     "name": "stdout",
     "output_type": "stream",
     "text": [
      "E[(1 + X)^{Y_d}] = -0.10272743304155321\n"
     ]
    }
   ],
   "source": [
    "#TODO: Needs to be fixed\n",
    "\n",
    "def compute_expectation(b_value=1.01):\n",
    "    # Constants\n",
    "    alpha = (100 ** 7) / (2 ** 5 * math.factorial(6))\n",
    "\n",
    "    # Compute E[(1 + X)^{Y_d}]\n",
    "    expectation = 0\n",
    "    for y_d in range(6):  # y_d goes from 0 to 5\n",
    "        for k in range(8):  # k goes from 0 to 7\n",
    "            binom_5_y_d = binom(5, y_d)\n",
    "            binom_7_k = binom(7, k)\n",
    "            I_k_y_d = compute_integral_numeric(b_value, y_d, k)\n",
    "            term = binom_5_y_d * binom_7_k * ((-1) ** k) * I_k_y_d\n",
    "            expectation += term\n",
    "\n",
    "    # Multiply by alpha\n",
    "    expectation *= alpha\n",
    "    return expectation\n",
    "\n",
    "# Example usage\n",
    "result = compute_expectation(b_value=1.01)  # You can adjust b_value as needed\n",
    "print(\"E[(1 + X)^{Y_d}] =\", result)"
   ]
  },
  {
   "cell_type": "markdown",
   "metadata": {},
   "source": [
    "## Extra Credit\n",
    "\n",
    "_What about the actual distribution of the stock price after a week?_"
   ]
  }
 ],
 "metadata": {
  "kernelspec": {
   "display_name": "puzzling",
   "language": "python",
   "name": "python3"
  },
  "language_info": {
   "codemirror_mode": {
    "name": "ipython",
    "version": 3
   },
   "file_extension": ".py",
   "mimetype": "text/x-python",
   "name": "python",
   "nbconvert_exporter": "python",
   "pygments_lexer": "ipython3",
   "version": "3.12.5"
  }
 },
 "nbformat": 4,
 "nbformat_minor": 2
}
